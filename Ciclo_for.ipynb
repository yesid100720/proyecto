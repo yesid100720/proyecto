{
 "cells": [
  {
   "cell_type": "code",
   "execution_count": 3,
   "metadata": {},
   "outputs": [
    {
     "name": "stdout",
     "output_type": "stream",
     "text": [
      " 0 los paises son:Canada\n",
      " 1 los paises son:USA\n",
      " 2 los paises son:Mexico\n",
      " 3 los paises son:Australia\n"
     ]
    }
   ],
   "source": [
    "#Realice un programa que enumere los paises de la siguiente lista\n",
    "\n",
    "paises = ['Canada', 'USA', 'Mexico', 'Australia']\n",
    "\n",
    "for numer, paises in enumerate(paises):\n",
    "    print(f\" {numer} los paises son:{paises}\")\n",
    "\n"
   ]
  },
  {
   "cell_type": "code",
   "execution_count": null,
   "metadata": {},
   "outputs": [],
   "source": [
    "#Crear un ciclo for que cuente de 0 a 100\n",
    "\n",
    "for i in range(0,100,1):\n",
    "    print(i)\n"
   ]
  },
  {
   "cell_type": "code",
   "execution_count": 15,
   "metadata": {},
   "outputs": [
    {
     "name": "stdout",
     "output_type": "stream",
     "text": [
      "6 x 1=6\n",
      "6 x 2=12\n",
      "6 x 3=18\n",
      "6 x 4=24\n",
      "6 x 5=30\n",
      "6 x 6=36\n",
      "6 x 7=42\n",
      "6 x 8=48\n",
      "6 x 9=54\n",
      "6 x 10=60\n"
     ]
    }
   ],
   "source": [
    "#Haz una tabla de multiplicar utilizando el ciclo for\n",
    "\n",
    "numero = 6\n",
    "\n",
    "for i in range(1, 11):\n",
    "   print(f\"{numero} x {i}={numero*i}\")"
   ]
  },
  {
   "cell_type": "code",
   "execution_count": 22,
   "metadata": {},
   "outputs": [
    {
     "name": "stdout",
     "output_type": "stream",
     "text": [
      "[10, 9, 8, 7, 6, 5, 4, 3, 2, 1]\n"
     ]
    }
   ],
   "source": [
    "#Imprima los números del 1 a 10 al revés utilizando el ciclo for\n",
    "numeros = [1,2,3,4,5,6,7,8,9,10]\n",
    "invertida = []\n",
    "for num in reversed(numeros):\n",
    "    invertida.append(num)\n",
    "print(invertida)\n"
   ]
  },
  {
   "cell_type": "code",
   "execution_count": null,
   "metadata": {},
   "outputs": [],
   "source": [
    "#Crear un bucle que cuente todos los números pares hasta el 100\n",
    "\n",
    "for i in range(2,100,2):\n",
    "    print(f\"los numeros pares son:{i}\")"
   ]
  },
  {
   "cell_type": "code",
   "execution_count": null,
   "metadata": {},
   "outputs": [],
   "source": [
    "#https://pythondiario.com/2021/01/ejercicios-con-for-en-python-aprende-a-programar.html"
   ]
  }
 ],
 "metadata": {
  "kernelspec": {
   "display_name": "Python 3",
   "language": "python",
   "name": "python3"
  },
  "language_info": {
   "codemirror_mode": {
    "name": "ipython",
    "version": 3
   },
   "file_extension": ".py",
   "mimetype": "text/x-python",
   "name": "python",
   "nbconvert_exporter": "python",
   "pygments_lexer": "ipython3",
   "version": "3.13.0"
  }
 },
 "nbformat": 4,
 "nbformat_minor": 2
}
